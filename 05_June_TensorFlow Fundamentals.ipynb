{
 "cells": [
  {
   "cell_type": "code",
   "execution_count": null,
   "metadata": {},
   "outputs": [],
   "source": []
  },
  {
   "cell_type": "markdown",
   "metadata": {},
   "source": [
    "Part 1: Theoretical Questions\n",
    "1. What are the different data structures used in TensorFlow? Give some examples.\n",
    "TensorFlow provides several data structures designed to facilitate efficient computation and data manipulation for deep learning tasks. The primary data structures include:\n",
    "\n",
    "Tensors:\n",
    "\n",
    "Definition: Tensors are multi-dimensional arrays that can hold various types of data, such as integers, floats, and strings. They are the fundamental building blocks in TensorFlow, enabling efficient mathematical computations."
   ]
  },
  {
   "cell_type": "code",
   "execution_count": 1,
   "metadata": {},
   "outputs": [
    {
     "name": "stdout",
     "output_type": "stream",
     "text": [
      "tf.Tensor(\n",
      "[[1 2]\n",
      " [3 4]], shape=(2, 2), dtype=int32)\n"
     ]
    }
   ],
   "source": [
    "import tensorflow as tf\n",
    "tensor_example = tf.constant([[1, 2], [3, 4]])\n",
    "print(tensor_example)\n"
   ]
  },
  {
   "cell_type": "markdown",
   "metadata": {},
   "source": [
    "Constants:\n",
    "\n",
    "Definition: Constants are immutable tensors whose values cannot be changed once defined. They are useful for representing fixed values in computations."
   ]
  },
  {
   "cell_type": "code",
   "execution_count": 2,
   "metadata": {},
   "outputs": [
    {
     "name": "stdout",
     "output_type": "stream",
     "text": [
      "tf.Tensor(3.14, shape=(), dtype=float32)\n"
     ]
    }
   ],
   "source": [
    "const_example = tf.constant(3.14)\n",
    "print(const_example)\n"
   ]
  },
  {
   "cell_type": "markdown",
   "metadata": {},
   "source": [
    "Variables:\n",
    "\n",
    "Definition: Variables are mutable tensors whose values can be changed during model training. They are primarily used to store parameters (weights and biases) that the model learns."
   ]
  },
  {
   "cell_type": "code",
   "execution_count": 3,
   "metadata": {},
   "outputs": [
    {
     "name": "stdout",
     "output_type": "stream",
     "text": [
      "<tf.Variable 'weights:0' shape=(2, 2) dtype=float32, numpy=\n",
      "array([[0.1353603 , 0.08663481],\n",
      "       [0.33493122, 0.282276  ]], dtype=float32)>\n"
     ]
    }
   ],
   "source": [
    "variable_example = tf.Variable(tf.random.normal([2, 2]), name='weights')\n",
    "print(variable_example)\n"
   ]
  },
  {
   "cell_type": "markdown",
   "metadata": {},
   "source": [
    "Sparse Tensors:\n",
    "\n",
    "Definition: Sparse tensors are designed to represent data that is mostly empty (i.e., consists of many zeros). They save memory and improve computation efficiency."
   ]
  },
  {
   "cell_type": "code",
   "execution_count": 6,
   "metadata": {},
   "outputs": [
    {
     "name": "stdout",
     "output_type": "stream",
     "text": [
      "tf.Tensor(\n",
      "[[3 0 0 0]\n",
      " [0 0 4 0]\n",
      " [0 0 0 0]], shape=(3, 4), dtype=int32)\n"
     ]
    }
   ],
   "source": [
    "import tensorflow as tf\n",
    "\n",
    "# Define indices as int64\n",
    "indices = tf.constant([[0, 0], [1, 2]], dtype=tf.int64)\n",
    "values = tf.constant([3, 4])  # Default dtype is int32, which is fine\n",
    "shape = tf.constant([3, 4], dtype=tf.int64)  # Ensure the shape is also int64\n",
    "\n",
    "# Create the sparse tensor\n",
    "sparse_tensor = tf.sparse.SparseTensor(indices, values, shape)\n",
    "\n",
    "# Convert sparse tensor to dense format and print\n",
    "dense_tensor = tf.sparse.to_dense(sparse_tensor)\n",
    "print(dense_tensor)\n"
   ]
  },
  {
   "cell_type": "markdown",
   "metadata": {},
   "source": [
    "Datasets:\n",
    "\n",
    "Definition: TensorFlow datasets allow for efficient input pipelines for training models, enabling easy manipulation of large datasets, including batching and shuffling."
   ]
  },
  {
   "cell_type": "code",
   "execution_count": 7,
   "metadata": {},
   "outputs": [
    {
     "name": "stdout",
     "output_type": "stream",
     "text": [
      "1\n",
      "2\n",
      "3\n",
      "4\n",
      "5\n"
     ]
    }
   ],
   "source": [
    "dataset_example = tf.data.Dataset.from_tensor_slices([1, 2, 3, 4, 5])\n",
    "for element in dataset_example:\n",
    "    print(element.numpy())\n"
   ]
  },
  {
   "cell_type": "markdown",
   "metadata": {},
   "source": [
    "2. How does the TensorFlow constant differ from a TensorFlow variable? Explain with an example.\n",
    "TensorFlow Constant:\n",
    "\n",
    "Characteristics:\n",
    "\n",
    "Immutable: Once created, the values cannot be changed.\n",
    "Use Case: Useful for representing fixed values in computations, such as hyperparameters or constants in mathematical equations."
   ]
  },
  {
   "cell_type": "code",
   "execution_count": 8,
   "metadata": {},
   "outputs": [
    {
     "name": "stdout",
     "output_type": "stream",
     "text": [
      "Constant Tensor:\n",
      " [[1 2]\n",
      " [3 4]]\n"
     ]
    }
   ],
   "source": [
    "import tensorflow as tf\n",
    "\n",
    "# Creating a constant\n",
    "const_tensor = tf.constant([[1, 2], [3, 4]])\n",
    "print(\"Constant Tensor:\\n\", const_tensor.numpy())\n",
    "\n",
    "# Trying to change a constant (will raise an error)\n",
    "# const_tensor[0, 0] = 10  # This line would raise an error\n"
   ]
  },
  {
   "cell_type": "markdown",
   "metadata": {},
   "source": [
    "TensorFlow Variable:\n",
    "\n",
    "Characteristics:\n",
    "\n",
    "Mutable: The values can be changed during execution.\n",
    "Use Case: Primarily used to store parameters of the model that are updated during training (e.g., weights and biases)."
   ]
  },
  {
   "cell_type": "code",
   "execution_count": 9,
   "metadata": {},
   "outputs": [
    {
     "name": "stdout",
     "output_type": "stream",
     "text": [
      "Variable Tensor Before Update:\n",
      " [[1. 2.]\n",
      " [3. 4.]]\n",
      "Variable Tensor After Update:\n",
      " [[5. 6.]\n",
      " [7. 8.]]\n"
     ]
    }
   ],
   "source": [
    "# Creating a variable\n",
    "var_tensor = tf.Variable([[1, 2], [3, 4]], dtype=tf.float32)\n",
    "print(\"Variable Tensor Before Update:\\n\", var_tensor.numpy())\n",
    "\n",
    "# Updating the variable\n",
    "var_tensor.assign([[5, 6], [7, 8]])\n",
    "print(\"Variable Tensor After Update:\\n\", var_tensor.numpy())\n"
   ]
  },
  {
   "cell_type": "markdown",
   "metadata": {},
   "source": [
    "3. Describe the process of matrix addition, multiplication, and element-wise operations in TensorFlow.\n",
    "Matrix Addition:\n",
    "\n",
    "Definition: Matrix addition involves adding two matrices of the same dimensions by adding corresponding elements."
   ]
  },
  {
   "cell_type": "code",
   "execution_count": 10,
   "metadata": {},
   "outputs": [
    {
     "name": "stdout",
     "output_type": "stream",
     "text": [
      "Matrix Addition Result:\n",
      " [[ 6  8]\n",
      " [10 12]]\n"
     ]
    }
   ],
   "source": [
    "A = tf.constant([[1, 2], [3, 4]])\n",
    "B = tf.constant([[5, 6], [7, 8]])\n",
    "D = tf.add(A, B)  # Or simply use A + B\n",
    "print(\"Matrix Addition Result:\\n\", D.numpy())\n"
   ]
  },
  {
   "cell_type": "markdown",
   "metadata": {},
   "source": [
    "Matrix Multiplication:\n",
    "\n",
    "Definition: Matrix multiplication (dot product) requires the number of columns in the first matrix to match the number of rows in the second matrix."
   ]
  },
  {
   "cell_type": "code",
   "execution_count": 11,
   "metadata": {},
   "outputs": [
    {
     "name": "stdout",
     "output_type": "stream",
     "text": [
      "Matrix Multiplication Result:\n",
      " [[ 7 10]\n",
      " [15 22]]\n"
     ]
    }
   ],
   "source": [
    "C = tf.constant([[1, 2], [3, 4]])\n",
    "E = tf.matmul(A, C)  # Matrix multiplication\n",
    "print(\"Matrix Multiplication Result:\\n\", E.numpy())\n"
   ]
  },
  {
   "cell_type": "markdown",
   "metadata": {},
   "source": [
    "Element-wise Operations:\n",
    "\n",
    "Definition: Operations such as addition, subtraction, and multiplication can be performed directly on tensors of the same shape. In element-wise multiplication, corresponding elements are multiplied."
   ]
  },
  {
   "cell_type": "code",
   "execution_count": 12,
   "metadata": {},
   "outputs": [
    {
     "name": "stdout",
     "output_type": "stream",
     "text": [
      "Element-wise Multiplication Result:\n",
      " [[2 4]\n",
      " [6 8]]\n"
     ]
    }
   ],
   "source": [
    "F = tf.constant([[2, 2], [2, 2]])\n",
    "H = tf.multiply(A, F)  # Element-wise multiplication\n",
    "print(\"Element-wise Multiplication Result:\\n\", H.numpy())\n"
   ]
  },
  {
   "cell_type": "markdown",
   "metadata": {},
   "source": [
    "Part 2: Practical Implementation\n",
    "Task 1: Creating and Manipulating Matrices"
   ]
  },
  {
   "cell_type": "code",
   "execution_count": 14,
   "metadata": {},
   "outputs": [
    {
     "name": "stdout",
     "output_type": "stream",
     "text": [
      "Matrix A:\n",
      " [[ 0.21114029  0.21881802 -0.20847815]\n",
      " [ 0.31332582 -0.5776927  -0.82318676]\n",
      " [-1.15434    -0.21699668  1.5093737 ]]\n",
      "Matrix B:\n",
      " [[-0.20376937  1.5181134  -0.25146103  0.28863448]\n",
      " [-0.502681   -0.25703594  0.48537806 -0.7177125 ]\n",
      " [ 0.9476379   0.0194639   0.03880293  1.6027733 ]\n",
      " [-0.12785363 -0.29659668 -0.87301445  0.88008547]]\n",
      "Matrix C:\n",
      " [[2.995787  2.3181176]\n",
      " [2.4577699 2.632454 ]]\n",
      "Matrix D (A + B):\n",
      " [[ 0.00737092  1.7369314  -0.45993918]\n",
      " [-0.1893552  -0.8347286  -0.3378087 ]\n",
      " [-0.20670211 -0.19753279  1.5481766 ]]\n",
      "Matrix F:\n",
      " [[ 0.27784184  0.6557665   0.18899478]\n",
      " [ 0.50615466  0.5742994  -0.69602805]]\n",
      "Matrix E (C @ F):\n",
      " [[ 2.005681   3.2958302 -1.0472867]\n",
      " [ 2.0153     3.12354   -1.3677561]]\n"
     ]
    }
   ],
   "source": [
    "import tensorflow as tf\n",
    "\n",
    "# 1. Create a normal matrix A with dimensions 3x3\n",
    "A = tf.random.normal((3, 3))\n",
    "print(\"Matrix A:\\n\", A.numpy())\n",
    "\n",
    "# 2. Create a Gaussian matrix B with dimensions 4x4\n",
    "B = tf.random.truncated_normal((4, 4))\n",
    "print(\"Matrix B:\\n\", B.numpy())\n",
    "\n",
    "# 3. Create a matrix C with dimensions 2x2 where values are drawn from a normal distribution\n",
    "C = tf.random.normal((2, 2), mean=3.0, stddev=0.5)\n",
    "print(\"Matrix C:\\n\", C.numpy())\n",
    "\n",
    "# 4. Perform matrix addition between matrix A and a compatible submatrix of B\n",
    "D = A + B[:3, :3]  # Only compatible shapes can be added\n",
    "print(\"Matrix D (A + B):\\n\", D.numpy())\n",
    "\n",
    "# 5. Create a new compatible matrix F with dimensions 2x3\n",
    "F = tf.random.normal((2, 3))\n",
    "print(\"Matrix F:\\n\", F.numpy())\n",
    "\n",
    "# Now perform the multiplication between C (2x2) and F (2x3)\n",
    "E = tf.matmul(C, F)  # This is now valid (2x2) @ (2x3)\n",
    "print(\"Matrix E (C @ F):\\n\", E.numpy())\n"
   ]
  },
  {
   "cell_type": "markdown",
   "metadata": {},
   "source": [
    "Task 2: Performing Additional Matrix Operations"
   ]
  },
  {
   "cell_type": "code",
   "execution_count": 15,
   "metadata": {},
   "outputs": [
    {
     "name": "stdout",
     "output_type": "stream",
     "text": [
      "Matrix F:\n",
      " [[0.8739524  0.8409716  0.12334979]\n",
      " [0.31426072 0.7745793  0.46403491]\n",
      " [0.61674285 0.9411752  0.74712706]]\n",
      "Matrix G (Transpose of F):\n",
      " [[0.8739524  0.31426072 0.61674285]\n",
      " [0.8409716  0.7745793  0.9411752 ]\n",
      " [0.12334979 0.46403491 0.74712706]]\n",
      "Matrix H (Element-wise Exponential of F):\n",
      " [[2.3963635 2.3186185 1.1312801]\n",
      " [1.3692467 2.1696792 1.5904785]\n",
      " [1.8528831 2.5629916 2.1109266]]\n",
      "Matrix I (F concatenated with G):\n",
      " [[0.8739524  0.8409716  0.12334979 0.8739524  0.31426072 0.61674285]\n",
      " [0.31426072 0.7745793  0.46403491 0.8409716  0.7745793  0.9411752 ]\n",
      " [0.61674285 0.9411752  0.74712706 0.12334979 0.46403491 0.74712706]]\n",
      "Matrix J (F concatenated with H):\n",
      " [[0.8739524  0.8409716  0.12334979]\n",
      " [0.31426072 0.7745793  0.46403491]\n",
      " [0.61674285 0.9411752  0.74712706]\n",
      " [2.3963635  2.3186185  1.1312801 ]\n",
      " [1.3692467  2.1696792  1.5904785 ]\n",
      " [1.8528831  2.5629916  2.1109266 ]]\n"
     ]
    }
   ],
   "source": [
    "# 1. Create a matrix F with dimensions 3x3 using random_uniform\n",
    "F = tf.random.uniform((3, 3))\n",
    "print(\"Matrix F:\\n\", F.numpy())\n",
    "\n",
    "# 2. Calculate the transpose of matrix F\n",
    "G = tf.transpose(F)\n",
    "print(\"Matrix G (Transpose of F):\\n\", G.numpy())\n",
    "\n",
    "# 3. Calculate the element-wise exponential of matrix F\n",
    "H = tf.exp(F)\n",
    "print(\"Matrix H (Element-wise Exponential of F):\\n\", H.numpy())\n",
    "\n",
    "# 4. Create a matrix I by concatenating matrix F and matrix G horizontally\n",
    "I = tf.concat([F, G], axis=1)\n",
    "print(\"Matrix I (F concatenated with G):\\n\", I.numpy())\n",
    "\n",
    "# 5. Create a matrix J by concatenating matrix F and matrix H vertically\n",
    "J = tf.concat([F, H], axis=0)\n",
    "print(\"Matrix J (F concatenated with H):\\n\", J.numpy())\n"
   ]
  }
 ],
 "metadata": {
  "kernelspec": {
   "display_name": "base",
   "language": "python",
   "name": "python3"
  },
  "language_info": {
   "codemirror_mode": {
    "name": "ipython",
    "version": 3
   },
   "file_extension": ".py",
   "mimetype": "text/x-python",
   "name": "python",
   "nbconvert_exporter": "python",
   "pygments_lexer": "ipython3",
   "version": "3.11.5"
  }
 },
 "nbformat": 4,
 "nbformat_minor": 2
}
